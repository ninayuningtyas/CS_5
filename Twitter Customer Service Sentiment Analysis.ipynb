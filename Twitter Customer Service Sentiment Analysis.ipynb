{
 "cells": [
  {
   "cell_type": "code",
   "execution_count": 69,
   "id": "4b1e5b2c",
   "metadata": {},
   "outputs": [],
   "source": [
    "#import library\n",
    "import pandas as pd\n",
    "import numpy as np\n",
    "import seaborn as sns\n",
    "import matplotlib.pyplot as plt\n",
    "\n",
    "from sklearn.preprocessing import LabelEncoder\n",
    "from sklearn.model_selection import train_test_split\n",
    "from sklearn.metrics import confusion_matrix\n",
    "\n",
    "from tensorflow.keras.preprocessing.text import Tokenizer\n",
    "from tensorflow.keras.preprocessing.sequence import pad_sequences\n",
    "\n",
    "from tensorflow.keras.optimizers import SGD\n",
    "from tensorflow.keras.models import Sequential\n",
    "from tensorflow.keras.layers import Conv1D, MaxPooling1D, Dense, LSTM, Embedding, Bidirectional, Dropout"
   ]
  },
  {
   "cell_type": "code",
   "execution_count": 17,
   "id": "328a457a",
   "metadata": {},
   "outputs": [
    {
     "data": {
      "text/html": [
       "<div>\n",
       "<style scoped>\n",
       "    .dataframe tbody tr th:only-of-type {\n",
       "        vertical-align: middle;\n",
       "    }\n",
       "\n",
       "    .dataframe tbody tr th {\n",
       "        vertical-align: top;\n",
       "    }\n",
       "\n",
       "    .dataframe thead th {\n",
       "        text-align: right;\n",
       "    }\n",
       "</style>\n",
       "<table border=\"1\" class=\"dataframe\">\n",
       "  <thead>\n",
       "    <tr style=\"text-align: right;\">\n",
       "      <th></th>\n",
       "      <th>tweet</th>\n",
       "      <th>vader_comp</th>\n",
       "      <th>label</th>\n",
       "    </tr>\n",
       "  </thead>\n",
       "  <tbody>\n",
       "    <tr>\n",
       "      <th>0</th>\n",
       "      <td>115712 understand would like assist would need...</td>\n",
       "      <td>0.3612</td>\n",
       "      <td>positive</td>\n",
       "    </tr>\n",
       "    <tr>\n",
       "      <th>1</th>\n",
       "      <td>sprintcar propos</td>\n",
       "      <td>0.0000</td>\n",
       "      <td>negative</td>\n",
       "    </tr>\n",
       "    <tr>\n",
       "      <th>2</th>\n",
       "      <td>sprintcar sent sever privat messag one respond...</td>\n",
       "      <td>0.0000</td>\n",
       "      <td>negative</td>\n",
       "    </tr>\n",
       "    <tr>\n",
       "      <th>3</th>\n",
       "      <td>115712 pleas send us privat messag assist clic...</td>\n",
       "      <td>0.2023</td>\n",
       "      <td>positive</td>\n",
       "    </tr>\n",
       "    <tr>\n",
       "      <th>4</th>\n",
       "      <td>sprintcar</td>\n",
       "      <td>0.0000</td>\n",
       "      <td>negative</td>\n",
       "    </tr>\n",
       "  </tbody>\n",
       "</table>\n",
       "</div>"
      ],
      "text/plain": [
       "                                               tweet  vader_comp     label\n",
       "0  115712 understand would like assist would need...      0.3612  positive\n",
       "1                                   sprintcar propos      0.0000  negative\n",
       "2  sprintcar sent sever privat messag one respond...      0.0000  negative\n",
       "3  115712 pleas send us privat messag assist clic...      0.2023  positive\n",
       "4                                          sprintcar      0.0000  negative"
      ]
     },
     "execution_count": 17,
     "metadata": {},
     "output_type": "execute_result"
    }
   ],
   "source": [
    "# load dataset\n",
    "# the dataset already cleaned. Check the separate .ipynb\n",
    "twcs = pd.read_csv('twcs_cleaned.csv')\n",
    "twcs.head()"
   ]
  },
  {
   "cell_type": "code",
   "execution_count": 18,
   "id": "0c6796bc",
   "metadata": {},
   "outputs": [
    {
     "name": "stdout",
     "output_type": "stream",
     "text": [
      "<class 'pandas.core.frame.DataFrame'>\n",
      "RangeIndex: 2811774 entries, 0 to 2811773\n",
      "Data columns (total 3 columns):\n",
      " #   Column      Dtype  \n",
      "---  ------      -----  \n",
      " 0   tweet       object \n",
      " 1   vader_comp  float64\n",
      " 2   label       object \n",
      "dtypes: float64(1), object(2)\n",
      "memory usage: 64.4+ MB\n"
     ]
    }
   ],
   "source": [
    "twcs.info()"
   ]
  },
  {
   "cell_type": "code",
   "execution_count": 19,
   "id": "fc630019",
   "metadata": {},
   "outputs": [
    {
     "data": {
      "text/plain": [
       "(2811774, 3)"
      ]
     },
     "execution_count": 19,
     "metadata": {},
     "output_type": "execute_result"
    }
   ],
   "source": [
    "twcs.shape"
   ]
  },
  {
   "cell_type": "code",
   "execution_count": 20,
   "id": "4da3490d",
   "metadata": {},
   "outputs": [
    {
     "name": "stderr",
     "output_type": "stream",
     "text": [
      "C:\\Users\\User\\anaconda3\\lib\\site-packages\\seaborn\\_decorators.py:36: FutureWarning: Pass the following variable as a keyword arg: x. From version 0.12, the only valid positional argument will be `data`, and passing other arguments without an explicit keyword will result in an error or misinterpretation.\n",
      "  warnings.warn(\n"
     ]
    },
    {
     "data": {
      "text/plain": [
       "Text(0.5, 1.0, 'Sentiment Label Count')"
      ]
     },
     "execution_count": 20,
     "metadata": {},
     "output_type": "execute_result"
    },
    {
     "data": {
      "image/png": "[encoded data removed]",
      "text/plain": [
       "<Figure size 432x288 with 1 Axes>"
      ]
     },
     "metadata": {
      "needs_background": "light"
     },
     "output_type": "display_data"
    }
   ],
   "source": [
    "# visualize the count of label\n",
    "label = twcs['label']\n",
    "\n",
    "sns.countplot(label)\n",
    "plt.xlabel(\"Tweet Label\")\n",
    "plt.title(\"Sentiment Label Count\")"
   ]
  },
  {
   "cell_type": "code",
   "execution_count": 21,
   "id": "1c7e5683",
   "metadata": {},
   "outputs": [],
   "source": [
    "# drop the irrelevant column\n",
    "twcs.drop('vader_comp',axis=1,inplace=True)"
   ]
  },
  {
   "cell_type": "code",
   "execution_count": 22,
   "id": "8115f22b",
   "metadata": {},
   "outputs": [
    {
     "data": {
      "text/html": [
       "<div>\n",
       "<style scoped>\n",
       "    .dataframe tbody tr th:only-of-type {\n",
       "        vertical-align: middle;\n",
       "    }\n",
       "\n",
       "    .dataframe tbody tr th {\n",
       "        vertical-align: top;\n",
       "    }\n",
       "\n",
       "    .dataframe thead th {\n",
       "        text-align: right;\n",
       "    }\n",
       "</style>\n",
       "<table border=\"1\" class=\"dataframe\">\n",
       "  <thead>\n",
       "    <tr style=\"text-align: right;\">\n",
       "      <th></th>\n",
       "      <th>tweet</th>\n",
       "      <th>label</th>\n",
       "    </tr>\n",
       "  </thead>\n",
       "  <tbody>\n",
       "    <tr>\n",
       "      <th>860239</th>\n",
       "      <td>hey 115858 hate ’ iphon crash lose photo video...</td>\n",
       "      <td>negative</td>\n",
       "    </tr>\n",
       "  </tbody>\n",
       "</table>\n",
       "</div>"
      ],
      "text/plain": [
       "                                                    tweet     label\n",
       "860239  hey 115858 hate ’ iphon crash lose photo video...  negative"
      ]
     },
     "execution_count": 22,
     "metadata": {},
     "output_type": "execute_result"
    }
   ],
   "source": [
    "twcs.sample()"
   ]
  },
  {
   "cell_type": "code",
   "execution_count": 23,
   "id": "9ead5fdb",
   "metadata": {},
   "outputs": [
    {
     "data": {
      "text/plain": [
       "negative    1495570\n",
       "positive    1316204\n",
       "Name: label, dtype: int64"
      ]
     },
     "execution_count": 23,
     "metadata": {},
     "output_type": "execute_result"
    }
   ],
   "source": [
    "twcs.label.value_counts()"
   ]
  },
  {
   "cell_type": "markdown",
   "id": "70485cd0",
   "metadata": {},
   "source": [
    "## MODELLING"
   ]
  },
  {
   "cell_type": "markdown",
   "id": "4fd6e268",
   "metadata": {},
   "source": [
    "### Tokenize"
   ]
  },
  {
   "cell_type": "code",
   "execution_count": 24,
   "id": "a89121ff",
   "metadata": {},
   "outputs": [],
   "source": [
    "def tokenize_pad_seq(text):\n",
    "    tokenizer = Tokenizer(num_words=5000, lower=True, split=' ')\n",
    "    tokenizer.fit_on_texts(text)\n",
    "    X = tokenizer.texts_to_sequences(text)\n",
    "    X = pad_sequences(X, padding='post', maxlen=50)\n",
    "    return X, tokenizer\n",
    "\n",
    "X, tokenizer = tokenize_pad_seq(twcs['tweet'].astype(str))"
   ]
  },
  {
   "cell_type": "code",
   "execution_count": 25,
   "id": "b46d1e3c",
   "metadata": {},
   "outputs": [
    {
     "data": {
      "text/plain": [
       "(2811774, 50)"
      ]
     },
     "execution_count": 25,
     "metadata": {},
     "output_type": "execute_result"
    }
   ],
   "source": [
    "X.shape"
   ]
  },
  {
   "cell_type": "markdown",
   "id": "ab57e067",
   "metadata": {},
   "source": [
    "### Split Data"
   ]
  },
  {
   "cell_type": "code",
   "execution_count": 49,
   "id": "08139b64",
   "metadata": {},
   "outputs": [
    {
     "name": "stdout",
     "output_type": "stream",
     "text": [
      "Shape of X_train Set: (1799535, 50)\n",
      "Shape of X_val Set: (449884, 50)\n",
      "Shape of X_test Set: (562355, 50)\n",
      "Shape of y_train Set: (1799535, 2)\n",
      "Shape of y_val Set: (449884, 2)\n",
      "Shape of y_test Set: (562355, 2)\n"
     ]
    }
   ],
   "source": [
    "#split data\n",
    "y = pd.get_dummies(twcs['label'])\n",
    "X_train, X_test, y_train, y_test = train_test_split(X, y, test_size=0.2)\n",
    "X_train,X_val, y_train, y_val = train_test_split(X_train, y_train, test_size=0.2)\n",
    "\n",
    "print('Shape of X_train Set: {}'.format(X_train.shape))\n",
    "print('Shape of X_val Set: {}'.format(X_val.shape))\n",
    "print('Shape of X_test Set: {}'.format(X_test.shape))\n",
    "print('Shape of y_train Set: {}'.format(y_train.shape))\n",
    "print('Shape of y_val Set: {}'.format(y_val.shape))\n",
    "print('Shape of y_test Set: {}'.format(y_test.shape))"
   ]
  },
  {
   "cell_type": "markdown",
   "id": "d5c79e8a",
   "metadata": {},
   "source": [
    "### Model Building"
   ]
  },
  {
   "cell_type": "code",
   "execution_count": 60,
   "id": "851ee6fc",
   "metadata": {},
   "outputs": [],
   "source": [
    "vocabSize = 5000\n",
    "embeddingSize = 32\n",
    "epochs = 10\n",
    "\n",
    "model = Sequential()\n",
    "model.add(Embedding(vocabSize, embeddingSize,input_length=X_train.shape[1])) # embedding layer\n",
    "model.add(Conv1D(filters=32,kernel_size=1,padding='same',activation='relu'))\n",
    "model.add(MaxPooling1D(pool_size=2))\n",
    "model.add(Bidirectional(LSTM(32))) #RNN layer\n",
    "model.add(Dropout(0.4))\n",
    "model.add(Dense(2, activation='softmax'))"
   ]
  },
  {
   "cell_type": "code",
   "execution_count": 61,
   "id": "d43ba5e5",
   "metadata": {},
   "outputs": [
    {
     "name": "stdout",
     "output_type": "stream",
     "text": [
      "Model: \"sequential_7\"\n",
      "_________________________________________________________________\n",
      " Layer (type)                Output Shape              Param #   \n",
      "=================================================================\n",
      " embedding_7 (Embedding)     (None, 50, 32)            160000    \n",
      "                                                                 \n",
      " conv1d_7 (Conv1D)           (None, 50, 32)            1056      \n",
      "                                                                 \n",
      " max_pooling1d_7 (MaxPooling  (None, 25, 32)           0         \n",
      " 1D)                                                             \n",
      "                                                                 \n",
      " bidirectional_7 (Bidirectio  (None, 64)               16640     \n",
      " nal)                                                            \n",
      "                                                                 \n",
      " dropout_6 (Dropout)         (None, 64)                0         \n",
      "                                                                 \n",
      " dense_8 (Dense)             (None, 2)                 130       \n",
      "                                                                 \n",
      "=================================================================\n",
      "Total params: 177,826\n",
      "Trainable params: 177,826\n",
      "Non-trainable params: 0\n",
      "_________________________________________________________________\n"
     ]
    }
   ],
   "source": [
    "model.summary()"
   ]
  },
  {
   "cell_type": "code",
   "execution_count": 62,
   "id": "0d3272ed",
   "metadata": {},
   "outputs": [],
   "source": [
    "# compile the model\n",
    "model.compile(loss='categorical_crossentropy',\n",
    "              optimizer='SGD',\n",
    "              metrics=['accuracy'])"
   ]
  },
  {
   "cell_type": "code",
   "execution_count": 63,
   "id": "476341ad",
   "metadata": {},
   "outputs": [
    {
     "name": "stdout",
     "output_type": "stream",
     "text": [
      "Epoch 1/10\n",
      "28118/28118 [==============================] - 391s 14ms/step - loss: 0.3454 - accuracy: 0.8419\n",
      "Epoch 2/10\n",
      "28118/28118 [==============================] - 380s 14ms/step - loss: 0.1597 - accuracy: 0.9556\n",
      "Epoch 3/10\n",
      "28118/28118 [==============================] - 376s 13ms/step - loss: 0.1298 - accuracy: 0.9618\n",
      "Epoch 4/10\n",
      "28118/28118 [==============================] - 371s 13ms/step - loss: 0.1113 - accuracy: 0.9642\n",
      "Epoch 5/10\n",
      "28118/28118 [==============================] - 3466s 123ms/step - loss: 0.1020 - accuracy: 0.9678\n",
      "Epoch 6/10\n",
      "28118/28118 [==============================] - 380s 14ms/step - loss: 0.0920 - accuracy: 0.9717\n",
      "Epoch 7/10\n",
      "28118/28118 [==============================] - 382s 14ms/step - loss: 0.0837 - accuracy: 0.9747\n",
      "Epoch 8/10\n",
      "28118/28118 [==============================] - 451s 16ms/step - loss: 0.0776 - accuracy: 0.9770\n",
      "Epoch 9/10\n",
      "28118/28118 [==============================] - 442s 16ms/step - loss: 0.0741 - accuracy: 0.9786\n",
      "Epoch 10/10\n",
      "28118/28118 [==============================] - 442s 16ms/step - loss: 0.0719 - accuracy: 0.9796\n"
     ]
    }
   ],
   "source": [
    "# fit the model\n",
    "history = model.fit(X_train,y_train,\n",
    "                    batch_size=64,epochs=10,verbose=1)"
   ]
  },
  {
   "cell_type": "code",
   "execution_count": 64,
   "id": "3f1f6c51",
   "metadata": {},
   "outputs": [
    {
     "name": "stdout",
     "output_type": "stream",
     "text": [
      "14059/14059 [==============================] - 52s 4ms/step - loss: 0.0672 - accuracy: 0.9810\n"
     ]
    },
    {
     "data": {
      "text/plain": [
       "[0.0671985074877739, 0.980950653553009]"
      ]
     },
     "execution_count": 64,
     "metadata": {},
     "output_type": "execute_result"
    }
   ],
   "source": [
    "# evaluate the model\n",
    "model.evaluate(X_val,y_val,verbose=1)"
   ]
  },
  {
   "cell_type": "code",
   "execution_count": 66,
   "id": "39403252",
   "metadata": {},
   "outputs": [
    {
     "name": "stdout",
     "output_type": "stream",
     "text": [
      "17574/17574 [==============================] - 67s 4ms/step\n"
     ]
    }
   ],
   "source": [
    "# the model prediction\n",
    "y_pred = model.predict(X_test)"
   ]
  },
  {
   "cell_type": "code",
   "execution_count": 70,
   "id": "8c588b6f",
   "metadata": {},
   "outputs": [
    {
     "data": {
      "text/plain": [
       "Text(51.0, 0.5, 'Prediction Label')"
      ]
     },
     "execution_count": 70,
     "metadata": {},
     "output_type": "execute_result"
    },
    {
     "data": {
      "image/png": "[encoded data removed]",
      "text/plain": [
       "<Figure size 576x432 with 2 Axes>"
      ]
     },
     "metadata": {
      "needs_background": "light"
     },
     "output_type": "display_data"
    }
   ],
   "source": [
    "# plot the confusion matrix of the sentiment label\n",
    "\n",
    "label = ['Positive','Negative']\n",
    "cm = confusion_matrix(np.argmax(y_pred, axis=1),\n",
    "                      np.argmax(np.array(y_test),axis=1))\n",
    "\n",
    "# plot the confusion matrix\n",
    "plt.figure(figsize=(8,6))\n",
    "sns.heatmap(cm,annot=True,fmt='d', xticklabels=label,\n",
    "            yticklabels=label)\n",
    "plt.title(\"Confusion Matrix of Twitter Sentiment Label\")\n",
    "plt.xlabel(\"Actual Label\")\n",
    "plt.ylabel(\"Prediction Label\")"
   ]
  }
 ],
 "metadata": {
  "kernelspec": {
   "display_name": "Python 3 (ipykernel)",
   "language": "python",
   "name": "python3"
  },
  "language_info": {
   "codemirror_mode": {
    "name": "ipython",
    "version": 3
   },
   "file_extension": ".py",
   "mimetype": "text/x-python",
   "name": "python",
   "nbconvert_exporter": "python",
   "pygments_lexer": "ipython3",
   "version": "3.9.12"
  }
 },
 "nbformat": 4,
 "nbformat_minor": 5
}
